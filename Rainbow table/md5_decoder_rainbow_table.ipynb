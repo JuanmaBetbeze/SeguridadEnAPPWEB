{
 "cells": [
  {
   "cell_type": "code",
   "execution_count": 16,
   "id": "c9635ace",
   "metadata": {},
   "outputs": [],
   "source": [
    "import pandas as pd"
   ]
  },
  {
   "cell_type": "code",
   "execution_count": 17,
   "id": "e02b7485",
   "metadata": {},
   "outputs": [],
   "source": [
    "data = pd.read_csv(r'/home/zeke/Desktop/UTN/2024/SeguridadWeb/TP/md5_rainbow_table.csv')"
   ]
  },
  {
   "cell_type": "code",
   "execution_count": 18,
   "id": "70d49e99",
   "metadata": {},
   "outputs": [
    {
     "data": {
      "text/html": [
       "<div>\n",
       "<style scoped>\n",
       "    .dataframe tbody tr th:only-of-type {\n",
       "        vertical-align: middle;\n",
       "    }\n",
       "\n",
       "    .dataframe tbody tr th {\n",
       "        vertical-align: top;\n",
       "    }\n",
       "\n",
       "    .dataframe thead th {\n",
       "        text-align: right;\n",
       "    }\n",
       "</style>\n",
       "<table border=\"1\" class=\"dataframe\">\n",
       "  <thead>\n",
       "    <tr style=\"text-align: right;\">\n",
       "      <th></th>\n",
       "      <th>hash</th>\n",
       "      <th>pass</th>\n",
       "    </tr>\n",
       "  </thead>\n",
       "  <tbody>\n",
       "    <tr>\n",
       "      <th>0</th>\n",
       "      <td>0000005ec43798404240e1f700343445</td>\n",
       "      <td>Paradenitis</td>\n",
       "    </tr>\n",
       "  </tbody>\n",
       "</table>\n",
       "</div>"
      ],
      "text/plain": [
       "                               hash         pass\n",
       "0  0000005ec43798404240e1f700343445  Paradenitis"
      ]
     },
     "execution_count": 18,
     "metadata": {},
     "output_type": "execute_result"
    }
   ],
   "source": [
    "data.head(1)"
   ]
  },
  {
   "cell_type": "code",
   "execution_count": 19,
   "id": "d72cbc2b",
   "metadata": {},
   "outputs": [
    {
     "name": "stdout",
     "output_type": "stream",
     "text": [
      "                                    hash           pass\n",
      "461660  a400396f02d88d2118eea16fafb94465  1password1234\n"
     ]
    }
   ],
   "source": [
    "hash_objetivo = 'a400396f02d88d2118eea16fafb94465'\n",
    "\n",
    "resultado = data[data['hash'] == hash_objetivo]\n",
    "\n",
    "if resultado.empty:\n",
    "    print('No se encontró la contraseña')\n",
    "else:\n",
    "    print(resultado)"
   ]
  },
  {
   "cell_type": "code",
   "execution_count": null,
   "id": "fd3bfbe9",
   "metadata": {},
   "outputs": [],
   "source": []
  }
 ],
 "metadata": {
  "kernelspec": {
   "display_name": "Python 3 (ipykernel)",
   "language": "python",
   "name": "python3"
  },
  "language_info": {
   "codemirror_mode": {
    "name": "ipython",
    "version": 3
   },
   "file_extension": ".py",
   "mimetype": "text/x-python",
   "name": "python",
   "nbconvert_exporter": "python",
   "pygments_lexer": "ipython3",
   "version": "3.11.7"
  }
 },
 "nbformat": 4,
 "nbformat_minor": 5
}
